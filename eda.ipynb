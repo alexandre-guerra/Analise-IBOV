{
 "cells": [
  {
   "cell_type": "markdown",
   "metadata": {},
   "source": [
    "# Prevendo valores do IBOV com algoritmos de machine learning"
   ]
  },
  {
   "cell_type": "markdown",
   "metadata": {},
   "source": [
    "## Iniciando a coleta e análise exporatória dos dados:"
   ]
  },
  {
   "cell_type": "markdown",
   "metadata": {},
   "source": [
    "### Importando as blibliotecas que serão utilizadas:"
   ]
  },
  {
   "cell_type": "code",
   "execution_count": 15,
   "metadata": {},
   "outputs": [],
   "source": [
    "import pandas as pd\n",
    "import numpy as np\n",
    "import matplotlib.pyplot as plt\n",
    "import plotly.graph_objects as go\n",
    "import seaborn as sns\n",
    "\n",
    "from statsmodels.tsa.seasonal import seasonal_decompose\n",
    "from scipy import stats\n",
    "import warnings\n",
    "warnings.filterwarnings('ignore')\n",
    "\n",
    "import utils"
   ]
  },
  {
   "cell_type": "markdown",
   "metadata": {},
   "source": [
    "### Carregando o dataframe:"
   ]
  },
  {
   "cell_type": "code",
   "execution_count": 2,
   "metadata": {},
   "outputs": [
    {
     "data": {
      "text/html": [
       "<div>\n",
       "<style scoped>\n",
       "    .dataframe tbody tr th:only-of-type {\n",
       "        vertical-align: middle;\n",
       "    }\n",
       "\n",
       "    .dataframe tbody tr th {\n",
       "        vertical-align: top;\n",
       "    }\n",
       "\n",
       "    .dataframe thead th {\n",
       "        text-align: right;\n",
       "    }\n",
       "</style>\n",
       "<table border=\"1\" class=\"dataframe\">\n",
       "  <thead>\n",
       "    <tr style=\"text-align: right;\">\n",
       "      <th></th>\n",
       "      <th>Data</th>\n",
       "      <th>Último</th>\n",
       "      <th>Abertura</th>\n",
       "      <th>Máxima</th>\n",
       "      <th>Mínima</th>\n",
       "      <th>Vol.</th>\n",
       "      <th>Var%</th>\n",
       "    </tr>\n",
       "  </thead>\n",
       "  <tbody>\n",
       "    <tr>\n",
       "      <th>0</th>\n",
       "      <td>09.01.2024</td>\n",
       "      <td>131.447</td>\n",
       "      <td>132.424</td>\n",
       "      <td>132.426</td>\n",
       "      <td>131.203</td>\n",
       "      <td>9,29M</td>\n",
       "      <td>-0,74%</td>\n",
       "    </tr>\n",
       "    <tr>\n",
       "      <th>1</th>\n",
       "      <td>08.01.2024</td>\n",
       "      <td>132.427</td>\n",
       "      <td>132.023</td>\n",
       "      <td>132.498</td>\n",
       "      <td>131.015</td>\n",
       "      <td>8,50M</td>\n",
       "      <td>0,31%</td>\n",
       "    </tr>\n",
       "    <tr>\n",
       "      <th>2</th>\n",
       "      <td>05.01.2024</td>\n",
       "      <td>132.023</td>\n",
       "      <td>131.218</td>\n",
       "      <td>132.635</td>\n",
       "      <td>130.579</td>\n",
       "      <td>9,20M</td>\n",
       "      <td>0,61%</td>\n",
       "    </tr>\n",
       "    <tr>\n",
       "      <th>3</th>\n",
       "      <td>04.01.2024</td>\n",
       "      <td>131.226</td>\n",
       "      <td>132.831</td>\n",
       "      <td>132.885</td>\n",
       "      <td>131.024</td>\n",
       "      <td>8,97M</td>\n",
       "      <td>-1,21%</td>\n",
       "    </tr>\n",
       "    <tr>\n",
       "      <th>4</th>\n",
       "      <td>03.01.2024</td>\n",
       "      <td>132.834</td>\n",
       "      <td>132.697</td>\n",
       "      <td>133.576</td>\n",
       "      <td>132.250</td>\n",
       "      <td>8,70M</td>\n",
       "      <td>0,10%</td>\n",
       "    </tr>\n",
       "  </tbody>\n",
       "</table>\n",
       "</div>"
      ],
      "text/plain": [
       "         Data   Último  Abertura   Máxima   Mínima   Vol.    Var%\n",
       "0  09.01.2024  131.447   132.424  132.426  131.203  9,29M  -0,74%\n",
       "1  08.01.2024  132.427   132.023  132.498  131.015  8,50M   0,31%\n",
       "2  05.01.2024  132.023   131.218  132.635  130.579  9,20M   0,61%\n",
       "3  04.01.2024  131.226   132.831  132.885  131.024  8,97M  -1,21%\n",
       "4  03.01.2024  132.834   132.697  133.576  132.250  8,70M   0,10%"
      ]
     },
     "execution_count": 2,
     "metadata": {},
     "output_type": "execute_result"
    }
   ],
   "source": [
    "df = pd.read_csv('./Ibovespa.csv')\n",
    "df.head()"
   ]
  },
  {
   "cell_type": "markdown",
   "metadata": {},
   "source": [
    "### Analisando o dataframe:"
   ]
  },
  {
   "cell_type": "code",
   "execution_count": 3,
   "metadata": {},
   "outputs": [
    {
     "data": {
      "text/plain": [
       "(4957, 7)"
      ]
     },
     "execution_count": 3,
     "metadata": {},
     "output_type": "execute_result"
    }
   ],
   "source": [
    "df.shape"
   ]
  },
  {
   "cell_type": "code",
   "execution_count": 4,
   "metadata": {},
   "outputs": [
    {
     "name": "stdout",
     "output_type": "stream",
     "text": [
      "<class 'pandas.core.frame.DataFrame'>\n",
      "RangeIndex: 4957 entries, 0 to 4956\n",
      "Data columns (total 7 columns):\n",
      " #   Column    Non-Null Count  Dtype  \n",
      "---  ------    --------------  -----  \n",
      " 0   Data      4957 non-null   object \n",
      " 1   Último    4957 non-null   float64\n",
      " 2   Abertura  4957 non-null   float64\n",
      " 3   Máxima    4957 non-null   float64\n",
      " 4   Mínima    4957 non-null   float64\n",
      " 5   Vol.      4956 non-null   object \n",
      " 6   Var%      4957 non-null   object \n",
      "dtypes: float64(4), object(3)\n",
      "memory usage: 271.2+ KB\n"
     ]
    }
   ],
   "source": [
    "df.info()"
   ]
  },
  {
   "cell_type": "code",
   "execution_count": 5,
   "metadata": {},
   "outputs": [
    {
     "data": {
      "text/html": [
       "<div>\n",
       "<style scoped>\n",
       "    .dataframe tbody tr th:only-of-type {\n",
       "        vertical-align: middle;\n",
       "    }\n",
       "\n",
       "    .dataframe tbody tr th {\n",
       "        vertical-align: top;\n",
       "    }\n",
       "\n",
       "    .dataframe thead th {\n",
       "        text-align: right;\n",
       "    }\n",
       "</style>\n",
       "<table border=\"1\" class=\"dataframe\">\n",
       "  <thead>\n",
       "    <tr style=\"text-align: right;\">\n",
       "      <th></th>\n",
       "      <th>Último</th>\n",
       "      <th>Abertura</th>\n",
       "      <th>Máxima</th>\n",
       "      <th>Mínima</th>\n",
       "    </tr>\n",
       "  </thead>\n",
       "  <tbody>\n",
       "    <tr>\n",
       "      <th>count</th>\n",
       "      <td>4957.000000</td>\n",
       "      <td>4957.000000</td>\n",
       "      <td>4957.000000</td>\n",
       "      <td>4957.000000</td>\n",
       "    </tr>\n",
       "    <tr>\n",
       "      <th>mean</th>\n",
       "      <td>66.905230</td>\n",
       "      <td>66.884093</td>\n",
       "      <td>67.554808</td>\n",
       "      <td>66.220636</td>\n",
       "    </tr>\n",
       "    <tr>\n",
       "      <th>std</th>\n",
       "      <td>28.072064</td>\n",
       "      <td>28.064641</td>\n",
       "      <td>28.260353</td>\n",
       "      <td>27.872580</td>\n",
       "    </tr>\n",
       "    <tr>\n",
       "      <th>min</th>\n",
       "      <td>17.604000</td>\n",
       "      <td>17.607000</td>\n",
       "      <td>18.387000</td>\n",
       "      <td>17.601000</td>\n",
       "    </tr>\n",
       "    <tr>\n",
       "      <th>25%</th>\n",
       "      <td>49.107000</td>\n",
       "      <td>49.102000</td>\n",
       "      <td>49.658000</td>\n",
       "      <td>48.456000</td>\n",
       "    </tr>\n",
       "    <tr>\n",
       "      <th>50%</th>\n",
       "      <td>60.653000</td>\n",
       "      <td>60.645000</td>\n",
       "      <td>61.299000</td>\n",
       "      <td>59.985000</td>\n",
       "    </tr>\n",
       "    <tr>\n",
       "      <th>75%</th>\n",
       "      <td>85.973000</td>\n",
       "      <td>85.918000</td>\n",
       "      <td>86.990000</td>\n",
       "      <td>85.197000</td>\n",
       "    </tr>\n",
       "    <tr>\n",
       "      <th>max</th>\n",
       "      <td>134.194000</td>\n",
       "      <td>134.194000</td>\n",
       "      <td>134.389000</td>\n",
       "      <td>133.832000</td>\n",
       "    </tr>\n",
       "  </tbody>\n",
       "</table>\n",
       "</div>"
      ],
      "text/plain": [
       "            Último     Abertura       Máxima       Mínima\n",
       "count  4957.000000  4957.000000  4957.000000  4957.000000\n",
       "mean     66.905230    66.884093    67.554808    66.220636\n",
       "std      28.072064    28.064641    28.260353    27.872580\n",
       "min      17.604000    17.607000    18.387000    17.601000\n",
       "25%      49.107000    49.102000    49.658000    48.456000\n",
       "50%      60.653000    60.645000    61.299000    59.985000\n",
       "75%      85.973000    85.918000    86.990000    85.197000\n",
       "max     134.194000   134.194000   134.389000   133.832000"
      ]
     },
     "execution_count": 5,
     "metadata": {},
     "output_type": "execute_result"
    }
   ],
   "source": [
    "df.describe()"
   ]
  },
  {
   "cell_type": "code",
   "execution_count": 6,
   "metadata": {},
   "outputs": [
    {
     "data": {
      "text/plain": [
       "Data        0\n",
       "Último      0\n",
       "Abertura    0\n",
       "Máxima      0\n",
       "Mínima      0\n",
       "Vol.        1\n",
       "Var%        0\n",
       "dtype: int64"
      ]
     },
     "execution_count": 6,
     "metadata": {},
     "output_type": "execute_result"
    }
   ],
   "source": [
    "df.isnull().sum()"
   ]
  },
  {
   "cell_type": "markdown",
   "metadata": {},
   "source": [
    "---\n",
    "#### Observações:\n",
    "\n",
    "*Quantidade de Entradas: 4.957 registros.*\n",
    "\n",
    "*Intervalo Temporal: 20 anos.*\n",
    "\n",
    "*Priodicidade dos dados: Diária.*"
   ]
  },
  {
   "cell_type": "markdown",
   "metadata": {},
   "source": [
    "---\n",
    "#### Colunas:\n",
    "\n",
    "**Data:** A data da entrada do índice (tipo object, precisa ser convertido para datetime).\n",
    "\n",
    "**Último:** O valor de fechamento do índice (float64).\n",
    "\n",
    "**Abertura:** O valor de abertura do índice (float64).\n",
    "\n",
    "**Máxima:** O valor máximo que o índice atingiu (float64).\n",
    "\n",
    "**Mínima:** O valor mínimo que o índice atingiu (float64).\n",
    "\n",
    "**Vol.:** O volume de negociações, representado como uma string que precisa de limpeza e conversão para um tipo numérico.\n",
    "\n",
    "**Var%:** A variação percentual do índice, também como string e que precisa ser convertida para um tipo numérico.\n"
   ]
  },
  {
   "cell_type": "markdown",
   "metadata": {},
   "source": [
    "---"
   ]
  },
  {
   "cell_type": "markdown",
   "metadata": {},
   "source": [
    "### Iniciando as transformações e limpeza:"
   ]
  },
  {
   "cell_type": "code",
   "execution_count": 7,
   "metadata": {},
   "outputs": [],
   "source": [
    "df['Vol.'] = df['Vol.'].apply(utils.convert_volume)\n",
    "df['Data'] = pd.to_datetime(df['Data'], format='%d.%m.%Y')\n",
    "df['Var%'] = df['Var%'].str.replace('%', '').str.replace(',', '.').astype(float)\n",
    "df['Vol.'].fillna(method='ffill', inplace=True)"
   ]
  },
  {
   "cell_type": "code",
   "execution_count": 8,
   "metadata": {},
   "outputs": [
    {
     "data": {
      "text/html": [
       "<div>\n",
       "<style scoped>\n",
       "    .dataframe tbody tr th:only-of-type {\n",
       "        vertical-align: middle;\n",
       "    }\n",
       "\n",
       "    .dataframe tbody tr th {\n",
       "        vertical-align: top;\n",
       "    }\n",
       "\n",
       "    .dataframe thead th {\n",
       "        text-align: right;\n",
       "    }\n",
       "</style>\n",
       "<table border=\"1\" class=\"dataframe\">\n",
       "  <thead>\n",
       "    <tr style=\"text-align: right;\">\n",
       "      <th></th>\n",
       "      <th>Data</th>\n",
       "      <th>Último</th>\n",
       "      <th>Abertura</th>\n",
       "      <th>Máxima</th>\n",
       "      <th>Mínima</th>\n",
       "      <th>Vol.</th>\n",
       "      <th>Var%</th>\n",
       "    </tr>\n",
       "  </thead>\n",
       "  <tbody>\n",
       "    <tr>\n",
       "      <th>count</th>\n",
       "      <td>4957</td>\n",
       "      <td>4957.000000</td>\n",
       "      <td>4957.000000</td>\n",
       "      <td>4957.000000</td>\n",
       "      <td>4957.000000</td>\n",
       "      <td>4.957000e+03</td>\n",
       "      <td>4957.000000</td>\n",
       "    </tr>\n",
       "    <tr>\n",
       "      <th>mean</th>\n",
       "      <td>2014-01-05 04:08:39.991930624</td>\n",
       "      <td>66.905230</td>\n",
       "      <td>66.884093</td>\n",
       "      <td>67.554808</td>\n",
       "      <td>66.220636</td>\n",
       "      <td>3.446364e+07</td>\n",
       "      <td>0.050446</td>\n",
       "    </tr>\n",
       "    <tr>\n",
       "      <th>min</th>\n",
       "      <td>2004-01-02 00:00:00</td>\n",
       "      <td>17.604000</td>\n",
       "      <td>17.607000</td>\n",
       "      <td>18.387000</td>\n",
       "      <td>17.601000</td>\n",
       "      <td>1.121000e+05</td>\n",
       "      <td>-14.780000</td>\n",
       "    </tr>\n",
       "    <tr>\n",
       "      <th>25%</th>\n",
       "      <td>2009-01-02 00:00:00</td>\n",
       "      <td>49.107000</td>\n",
       "      <td>49.102000</td>\n",
       "      <td>49.658000</td>\n",
       "      <td>48.456000</td>\n",
       "      <td>2.820000e+06</td>\n",
       "      <td>-0.840000</td>\n",
       "    </tr>\n",
       "    <tr>\n",
       "      <th>50%</th>\n",
       "      <td>2014-01-07 00:00:00</td>\n",
       "      <td>60.653000</td>\n",
       "      <td>60.645000</td>\n",
       "      <td>61.299000</td>\n",
       "      <td>59.985000</td>\n",
       "      <td>4.430000e+06</td>\n",
       "      <td>0.070000</td>\n",
       "    </tr>\n",
       "    <tr>\n",
       "      <th>75%</th>\n",
       "      <td>2019-01-14 00:00:00</td>\n",
       "      <td>85.973000</td>\n",
       "      <td>85.918000</td>\n",
       "      <td>86.990000</td>\n",
       "      <td>85.197000</td>\n",
       "      <td>1.216000e+07</td>\n",
       "      <td>0.980000</td>\n",
       "    </tr>\n",
       "    <tr>\n",
       "      <th>max</th>\n",
       "      <td>2024-01-09 00:00:00</td>\n",
       "      <td>134.194000</td>\n",
       "      <td>134.194000</td>\n",
       "      <td>134.389000</td>\n",
       "      <td>133.832000</td>\n",
       "      <td>9.949600e+08</td>\n",
       "      <td>14.660000</td>\n",
       "    </tr>\n",
       "    <tr>\n",
       "      <th>std</th>\n",
       "      <td>NaN</td>\n",
       "      <td>28.072064</td>\n",
       "      <td>28.064641</td>\n",
       "      <td>28.260353</td>\n",
       "      <td>27.872580</td>\n",
       "      <td>7.992799e+07</td>\n",
       "      <td>1.705565</td>\n",
       "    </tr>\n",
       "  </tbody>\n",
       "</table>\n",
       "</div>"
      ],
      "text/plain": [
       "                                Data       Último     Abertura       Máxima  \\\n",
       "count                           4957  4957.000000  4957.000000  4957.000000   \n",
       "mean   2014-01-05 04:08:39.991930624    66.905230    66.884093    67.554808   \n",
       "min              2004-01-02 00:00:00    17.604000    17.607000    18.387000   \n",
       "25%              2009-01-02 00:00:00    49.107000    49.102000    49.658000   \n",
       "50%              2014-01-07 00:00:00    60.653000    60.645000    61.299000   \n",
       "75%              2019-01-14 00:00:00    85.973000    85.918000    86.990000   \n",
       "max              2024-01-09 00:00:00   134.194000   134.194000   134.389000   \n",
       "std                              NaN    28.072064    28.064641    28.260353   \n",
       "\n",
       "            Mínima          Vol.         Var%  \n",
       "count  4957.000000  4.957000e+03  4957.000000  \n",
       "mean     66.220636  3.446364e+07     0.050446  \n",
       "min      17.601000  1.121000e+05   -14.780000  \n",
       "25%      48.456000  2.820000e+06    -0.840000  \n",
       "50%      59.985000  4.430000e+06     0.070000  \n",
       "75%      85.197000  1.216000e+07     0.980000  \n",
       "max     133.832000  9.949600e+08    14.660000  \n",
       "std      27.872580  7.992799e+07     1.705565  "
      ]
     },
     "execution_count": 8,
     "metadata": {},
     "output_type": "execute_result"
    }
   ],
   "source": [
    "df.describe()"
   ]
  },
  {
   "cell_type": "code",
   "execution_count": 9,
   "metadata": {},
   "outputs": [
    {
     "data": {
      "text/plain": [
       "Data        0\n",
       "Último      0\n",
       "Abertura    0\n",
       "Máxima      0\n",
       "Mínima      0\n",
       "Vol.        0\n",
       "Var%        0\n",
       "dtype: int64"
      ]
     },
     "execution_count": 9,
     "metadata": {},
     "output_type": "execute_result"
    }
   ],
   "source": [
    "df.isnull().sum()"
   ]
  },
  {
   "cell_type": "code",
   "execution_count": 10,
   "metadata": {},
   "outputs": [
    {
     "data": {
      "text/html": [
       "<div>\n",
       "<style scoped>\n",
       "    .dataframe tbody tr th:only-of-type {\n",
       "        vertical-align: middle;\n",
       "    }\n",
       "\n",
       "    .dataframe tbody tr th {\n",
       "        vertical-align: top;\n",
       "    }\n",
       "\n",
       "    .dataframe thead th {\n",
       "        text-align: right;\n",
       "    }\n",
       "</style>\n",
       "<table border=\"1\" class=\"dataframe\">\n",
       "  <thead>\n",
       "    <tr style=\"text-align: right;\">\n",
       "      <th></th>\n",
       "      <th>Data</th>\n",
       "      <th>Último</th>\n",
       "      <th>Abertura</th>\n",
       "      <th>Máxima</th>\n",
       "      <th>Mínima</th>\n",
       "      <th>Vol.</th>\n",
       "      <th>Var%</th>\n",
       "    </tr>\n",
       "  </thead>\n",
       "  <tbody>\n",
       "    <tr>\n",
       "      <th>0</th>\n",
       "      <td>2024-01-09</td>\n",
       "      <td>131.447</td>\n",
       "      <td>132.424</td>\n",
       "      <td>132.426</td>\n",
       "      <td>131.203</td>\n",
       "      <td>9290000.0</td>\n",
       "      <td>-0.74</td>\n",
       "    </tr>\n",
       "    <tr>\n",
       "      <th>1</th>\n",
       "      <td>2024-01-08</td>\n",
       "      <td>132.427</td>\n",
       "      <td>132.023</td>\n",
       "      <td>132.498</td>\n",
       "      <td>131.015</td>\n",
       "      <td>8500000.0</td>\n",
       "      <td>0.31</td>\n",
       "    </tr>\n",
       "    <tr>\n",
       "      <th>2</th>\n",
       "      <td>2024-01-05</td>\n",
       "      <td>132.023</td>\n",
       "      <td>131.218</td>\n",
       "      <td>132.635</td>\n",
       "      <td>130.579</td>\n",
       "      <td>9200000.0</td>\n",
       "      <td>0.61</td>\n",
       "    </tr>\n",
       "    <tr>\n",
       "      <th>3</th>\n",
       "      <td>2024-01-04</td>\n",
       "      <td>131.226</td>\n",
       "      <td>132.831</td>\n",
       "      <td>132.885</td>\n",
       "      <td>131.024</td>\n",
       "      <td>8970000.0</td>\n",
       "      <td>-1.21</td>\n",
       "    </tr>\n",
       "    <tr>\n",
       "      <th>4</th>\n",
       "      <td>2024-01-03</td>\n",
       "      <td>132.834</td>\n",
       "      <td>132.697</td>\n",
       "      <td>133.576</td>\n",
       "      <td>132.250</td>\n",
       "      <td>8700000.0</td>\n",
       "      <td>0.10</td>\n",
       "    </tr>\n",
       "    <tr>\n",
       "      <th>5</th>\n",
       "      <td>2024-01-02</td>\n",
       "      <td>132.697</td>\n",
       "      <td>134.186</td>\n",
       "      <td>134.195</td>\n",
       "      <td>132.095</td>\n",
       "      <td>8440000.0</td>\n",
       "      <td>-1.11</td>\n",
       "    </tr>\n",
       "    <tr>\n",
       "      <th>6</th>\n",
       "      <td>2023-12-28</td>\n",
       "      <td>134.185</td>\n",
       "      <td>134.194</td>\n",
       "      <td>134.389</td>\n",
       "      <td>133.832</td>\n",
       "      <td>7810000.0</td>\n",
       "      <td>-0.01</td>\n",
       "    </tr>\n",
       "    <tr>\n",
       "      <th>7</th>\n",
       "      <td>2023-12-27</td>\n",
       "      <td>134.194</td>\n",
       "      <td>133.523</td>\n",
       "      <td>134.195</td>\n",
       "      <td>133.328</td>\n",
       "      <td>6170000.0</td>\n",
       "      <td>0.49</td>\n",
       "    </tr>\n",
       "    <tr>\n",
       "      <th>8</th>\n",
       "      <td>2023-12-26</td>\n",
       "      <td>133.533</td>\n",
       "      <td>132.753</td>\n",
       "      <td>133.645</td>\n",
       "      <td>132.753</td>\n",
       "      <td>5150000.0</td>\n",
       "      <td>0.59</td>\n",
       "    </tr>\n",
       "    <tr>\n",
       "      <th>9</th>\n",
       "      <td>2023-12-22</td>\n",
       "      <td>132.753</td>\n",
       "      <td>132.182</td>\n",
       "      <td>133.035</td>\n",
       "      <td>132.094</td>\n",
       "      <td>8230000.0</td>\n",
       "      <td>0.43</td>\n",
       "    </tr>\n",
       "  </tbody>\n",
       "</table>\n",
       "</div>"
      ],
      "text/plain": [
       "        Data   Último  Abertura   Máxima   Mínima       Vol.  Var%\n",
       "0 2024-01-09  131.447   132.424  132.426  131.203  9290000.0 -0.74\n",
       "1 2024-01-08  132.427   132.023  132.498  131.015  8500000.0  0.31\n",
       "2 2024-01-05  132.023   131.218  132.635  130.579  9200000.0  0.61\n",
       "3 2024-01-04  131.226   132.831  132.885  131.024  8970000.0 -1.21\n",
       "4 2024-01-03  132.834   132.697  133.576  132.250  8700000.0  0.10\n",
       "5 2024-01-02  132.697   134.186  134.195  132.095  8440000.0 -1.11\n",
       "6 2023-12-28  134.185   134.194  134.389  133.832  7810000.0 -0.01\n",
       "7 2023-12-27  134.194   133.523  134.195  133.328  6170000.0  0.49\n",
       "8 2023-12-26  133.533   132.753  133.645  132.753  5150000.0  0.59\n",
       "9 2023-12-22  132.753   132.182  133.035  132.094  8230000.0  0.43"
      ]
     },
     "execution_count": 10,
     "metadata": {},
     "output_type": "execute_result"
    }
   ],
   "source": [
    "df.head(10)"
   ]
  },
  {
   "cell_type": "markdown",
   "metadata": {},
   "source": [
    "#### Visualizando os valores de fechamento"
   ]
  },
  {
   "cell_type": "code",
   "execution_count": 11,
   "metadata": {},
   "outputs": [
    {
     "ename": "KeyError",
     "evalue": "'y'",
     "output_type": "error",
     "traceback": [
      "\u001b[1;31m---------------------------------------------------------------------------\u001b[0m",
      "\u001b[1;31mKeyError\u001b[0m                                  Traceback (most recent call last)",
      "File \u001b[1;32mc:\\Users\\alexandre\\AppData\\Local\\Programs\\Python\\Python310\\lib\\site-packages\\pandas\\core\\indexes\\base.py:3791\u001b[0m, in \u001b[0;36mIndex.get_loc\u001b[1;34m(self, key)\u001b[0m\n\u001b[0;32m   3790\u001b[0m \u001b[38;5;28;01mtry\u001b[39;00m:\n\u001b[1;32m-> 3791\u001b[0m     \u001b[38;5;28;01mreturn\u001b[39;00m \u001b[38;5;28;43mself\u001b[39;49m\u001b[38;5;241;43m.\u001b[39;49m\u001b[43m_engine\u001b[49m\u001b[38;5;241;43m.\u001b[39;49m\u001b[43mget_loc\u001b[49m\u001b[43m(\u001b[49m\u001b[43mcasted_key\u001b[49m\u001b[43m)\u001b[49m\n\u001b[0;32m   3792\u001b[0m \u001b[38;5;28;01mexcept\u001b[39;00m \u001b[38;5;167;01mKeyError\u001b[39;00m \u001b[38;5;28;01mas\u001b[39;00m err:\n",
      "File \u001b[1;32mindex.pyx:152\u001b[0m, in \u001b[0;36mpandas._libs.index.IndexEngine.get_loc\u001b[1;34m()\u001b[0m\n",
      "File \u001b[1;32mindex.pyx:181\u001b[0m, in \u001b[0;36mpandas._libs.index.IndexEngine.get_loc\u001b[1;34m()\u001b[0m\n",
      "File \u001b[1;32mpandas\\_libs\\hashtable_class_helper.pxi:7080\u001b[0m, in \u001b[0;36mpandas._libs.hashtable.PyObjectHashTable.get_item\u001b[1;34m()\u001b[0m\n",
      "File \u001b[1;32mpandas\\_libs\\hashtable_class_helper.pxi:7088\u001b[0m, in \u001b[0;36mpandas._libs.hashtable.PyObjectHashTable.get_item\u001b[1;34m()\u001b[0m\n",
      "\u001b[1;31mKeyError\u001b[0m: 'y'",
      "\nThe above exception was the direct cause of the following exception:\n",
      "\u001b[1;31mKeyError\u001b[0m                                  Traceback (most recent call last)",
      "Cell \u001b[1;32mIn[11], line 2\u001b[0m\n\u001b[0;32m      1\u001b[0m fig \u001b[38;5;241m=\u001b[39m go\u001b[38;5;241m.\u001b[39mFigure()\n\u001b[1;32m----> 2\u001b[0m fig\u001b[38;5;241m.\u001b[39madd_trace(go\u001b[38;5;241m.\u001b[39mScatter(x\u001b[38;5;241m=\u001b[39mdf\u001b[38;5;241m.\u001b[39mindex, y\u001b[38;5;241m=\u001b[39m\u001b[43mdf\u001b[49m\u001b[43m[\u001b[49m\u001b[38;5;124;43m'\u001b[39;49m\u001b[38;5;124;43my\u001b[39;49m\u001b[38;5;124;43m'\u001b[39;49m\u001b[43m]\u001b[49m, mode\u001b[38;5;241m=\u001b[39m\u001b[38;5;124m'\u001b[39m\u001b[38;5;124mlines\u001b[39m\u001b[38;5;124m'\u001b[39m, name\u001b[38;5;241m=\u001b[39m\u001b[38;5;124m'\u001b[39m\u001b[38;5;124mlines\u001b[39m\u001b[38;5;124m'\u001b[39m))\n\u001b[0;32m      4\u001b[0m \u001b[38;5;66;03m# Calcular a linha de tendência\u001b[39;00m\n\u001b[0;32m      5\u001b[0m x \u001b[38;5;241m=\u001b[39m np\u001b[38;5;241m.\u001b[39marray(\u001b[38;5;28mrange\u001b[39m(\u001b[38;5;28mlen\u001b[39m(df)))\n",
      "File \u001b[1;32mc:\\Users\\alexandre\\AppData\\Local\\Programs\\Python\\Python310\\lib\\site-packages\\pandas\\core\\frame.py:3893\u001b[0m, in \u001b[0;36mDataFrame.__getitem__\u001b[1;34m(self, key)\u001b[0m\n\u001b[0;32m   3891\u001b[0m \u001b[38;5;28;01mif\u001b[39;00m \u001b[38;5;28mself\u001b[39m\u001b[38;5;241m.\u001b[39mcolumns\u001b[38;5;241m.\u001b[39mnlevels \u001b[38;5;241m>\u001b[39m \u001b[38;5;241m1\u001b[39m:\n\u001b[0;32m   3892\u001b[0m     \u001b[38;5;28;01mreturn\u001b[39;00m \u001b[38;5;28mself\u001b[39m\u001b[38;5;241m.\u001b[39m_getitem_multilevel(key)\n\u001b[1;32m-> 3893\u001b[0m indexer \u001b[38;5;241m=\u001b[39m \u001b[38;5;28;43mself\u001b[39;49m\u001b[38;5;241;43m.\u001b[39;49m\u001b[43mcolumns\u001b[49m\u001b[38;5;241;43m.\u001b[39;49m\u001b[43mget_loc\u001b[49m\u001b[43m(\u001b[49m\u001b[43mkey\u001b[49m\u001b[43m)\u001b[49m\n\u001b[0;32m   3894\u001b[0m \u001b[38;5;28;01mif\u001b[39;00m is_integer(indexer):\n\u001b[0;32m   3895\u001b[0m     indexer \u001b[38;5;241m=\u001b[39m [indexer]\n",
      "File \u001b[1;32mc:\\Users\\alexandre\\AppData\\Local\\Programs\\Python\\Python310\\lib\\site-packages\\pandas\\core\\indexes\\base.py:3798\u001b[0m, in \u001b[0;36mIndex.get_loc\u001b[1;34m(self, key)\u001b[0m\n\u001b[0;32m   3793\u001b[0m     \u001b[38;5;28;01mif\u001b[39;00m \u001b[38;5;28misinstance\u001b[39m(casted_key, \u001b[38;5;28mslice\u001b[39m) \u001b[38;5;129;01mor\u001b[39;00m (\n\u001b[0;32m   3794\u001b[0m         \u001b[38;5;28misinstance\u001b[39m(casted_key, abc\u001b[38;5;241m.\u001b[39mIterable)\n\u001b[0;32m   3795\u001b[0m         \u001b[38;5;129;01mand\u001b[39;00m \u001b[38;5;28many\u001b[39m(\u001b[38;5;28misinstance\u001b[39m(x, \u001b[38;5;28mslice\u001b[39m) \u001b[38;5;28;01mfor\u001b[39;00m x \u001b[38;5;129;01min\u001b[39;00m casted_key)\n\u001b[0;32m   3796\u001b[0m     ):\n\u001b[0;32m   3797\u001b[0m         \u001b[38;5;28;01mraise\u001b[39;00m InvalidIndexError(key)\n\u001b[1;32m-> 3798\u001b[0m     \u001b[38;5;28;01mraise\u001b[39;00m \u001b[38;5;167;01mKeyError\u001b[39;00m(key) \u001b[38;5;28;01mfrom\u001b[39;00m \u001b[38;5;21;01merr\u001b[39;00m\n\u001b[0;32m   3799\u001b[0m \u001b[38;5;28;01mexcept\u001b[39;00m \u001b[38;5;167;01mTypeError\u001b[39;00m:\n\u001b[0;32m   3800\u001b[0m     \u001b[38;5;66;03m# If we have a listlike key, _check_indexing_error will raise\u001b[39;00m\n\u001b[0;32m   3801\u001b[0m     \u001b[38;5;66;03m#  InvalidIndexError. Otherwise we fall through and re-raise\u001b[39;00m\n\u001b[0;32m   3802\u001b[0m     \u001b[38;5;66;03m#  the TypeError.\u001b[39;00m\n\u001b[0;32m   3803\u001b[0m     \u001b[38;5;28mself\u001b[39m\u001b[38;5;241m.\u001b[39m_check_indexing_error(key)\n",
      "\u001b[1;31mKeyError\u001b[0m: 'y'"
     ]
    }
   ],
   "source": [
    "fig = go.Figure()\n",
    "fig.add_trace(go.Scatter(x=df.index, y=df['y'], mode='lines', name='lines'))\n",
    "\n",
    "# Calcular a linha de tendência\n",
    "x = np.array(range(len(df)))\n",
    "y = df['y'].values\n",
    "slope, intercept, r_value, p_value, std_err = stats.linregress(x, y)\n",
    "line = slope * x + intercept\n",
    "\n",
    "# Adicionar a linha de tendência ao gráfico\n",
    "fig.add_trace(go.Scatter(x=df.index, y=line, mode='lines', name='Linha de Tendência'))\n",
    "\n",
    "fig.update_layout(showlegend=True)\n",
    "fig.show()\n"
   ]
  },
  {
   "cell_type": "markdown",
   "metadata": {},
   "source": [
    "### Análise de série temporal (Decomposição)"
   ]
  },
  {
   "cell_type": "code",
   "execution_count": null,
   "metadata": {},
   "outputs": [
    {
     "data": {
      "image/png": "[encoded data removed]",
      "text/plain": [
       "<Figure size 1500x800 with 4 Axes>"
      ]
     },
     "metadata": {},
     "output_type": "display_data"
    }
   ],
   "source": [
    "seasonplot = seasonal_decompose(df, model='multiplicative', period=5) # A bolsa de valores abre 5 dias por semana\n",
    "fig, (ax1, ax2, ax3, ax4) = plt.subplots(4,1,figsize=(15,8))\n",
    "seasonplot.observed.plot(ax=ax1)\n",
    "seasonplot.trend.plot(ax=ax2)\n",
    "seasonplot.seasonal.plot(ax=ax3)\n",
    "seasonplot.resid.plot(ax=ax4)\n",
    "plt.tight_layout()"
   ]
  },
  {
   "cell_type": "markdown",
   "metadata": {},
   "source": [
    "## Informações importantes sobre o IBOV e análise dos pontos principais:"
   ]
  },
  {
   "cell_type": "markdown",
   "metadata": {},
   "source": [
    "### Queda de 2008\n",
    "A queda de 2008 está relacionada à crise financeira global desencadeada pela bolha imobiliária dos EUA, conhecida como a \"crise do subprime\". Os efeitos dessa crise foram sentidos em mercados financeiros ao redor do mundo, incluindo a Bovespa, que viu uma redução significativa no valor dos ativos, em linha com a aversão global ao risco e a fuga de capitais.\n",
    "\n",
    "### Recuperação de 2009\n",
    "Em 2009, houve uma recuperação no mercado de ações, incluindo o Ibovespa, em grande parte devido às medidas de estímulo econômico adotadas por governos e bancos centrais em várias partes do mundo. No Brasil, a economia começou a mostrar sinais de melhora, e os investidores recuperaram a confiança, levando a uma recuperação do valor do índice.\n",
    "\n",
    "### Queda de 2015\n",
    "A queda de 2015 pode ser atribuída a uma combinação de fatores, incluindo a desaceleração econômica do Brasil, a crise política interna e a redução dos preços das commodities. Estes eventos tiveram um impacto negativo sobre o mercado de ações brasileiro, resultando em uma performance menos favorável do Ibovespa.\n",
    "\n",
    "### Recuperação de 2016\n",
    "A recuperação do Ibovespa em 2016 foi parcialmente impulsionada pela melhoria do clima político após o impeachment da presidente Dilma Rousseff e a perspectiva de reformas econômicas propostas pelo novo governo. Além disso, a recuperação dos preços das commodities e a melhora do cenário econômico global ajudaram a impulsionar o mercado de ações.\n",
    "\n",
    "### Queda de 2020\n",
    "A queda de 2020 foi desencadeada pela pandemia de COVID-19, que causou um choque sem precedentes nas economias globais e nacionais. O Ibovespa, assim como outros índices ao redor do mundo, sofreu quedas acentuadas devido às incertezas econômicas e ao impacto das medidas de confinamento na atividade econômica.\n",
    "\n",
    "### Recuperação de 2020\n",
    "Surpreendentemente, ainda em 2020, o Ibovespa e outros mercados começaram a se recuperar rapidamente após as quedas iniciais. As respostas políticas, incluindo estímulos fiscais e monetários significativos e o progresso no desenvolvimento de vacinas, ajudaram a restaurar a confiança dos investidores e a promover uma recuperação nos preços das ações."
   ]
  },
  {
   "cell_type": "markdown",
   "metadata": {},
   "source": []
  }
 ],
 "metadata": {
  "kernelspec": {
   "display_name": "Python 3",
   "language": "python",
   "name": "python3"
  },
  "language_info": {
   "codemirror_mode": {
    "name": "ipython",
    "version": 3
   },
   "file_extension": ".py",
   "mimetype": "text/x-python",
   "name": "python",
   "nbconvert_exporter": "python",
   "pygments_lexer": "ipython3",
   "version": "3.10.11"
  }
 },
 "nbformat": 4,
 "nbformat_minor": 2
}
